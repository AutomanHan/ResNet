{
 "cells": [
  {
   "cell_type": "code",
   "execution_count": 2,
   "metadata": {},
   "outputs": [
    {
     "name": "stdout",
     "output_type": "stream",
     "text": [
      "1.4.0\n"
     ]
    }
   ],
   "source": [
    "import numpy as np\n",
    "#tensorflow and tf.keras\n",
    "import tensorflow as tf\n",
    "from tensorflow import keras\n",
    "print tf.__version__"
   ]
  },
  {
   "cell_type": "code",
   "execution_count": 3,
   "metadata": {},
   "outputs": [
    {
     "name": "stdout",
     "output_type": "stream",
     "text": [
      "Tensor(\"Const:0\", shape=(1, 100), dtype=float32)\n"
     ]
    }
   ],
   "source": [
    "#使用NumPy生成假数据(phony data),总共100个点\n",
    "x_data = np.float32(np.random.rand(2,100))\n",
    "y_data = np.dot([0.100, 0.200], x_data) + 0.300\n",
    "y_data = y_data.reshape(1,100)\n",
    "y_data = tf.convert_to_tensor(y_data, dtype = tf.float32)\n",
    "print y_data"
   ]
  },
  {
   "cell_type": "code",
   "execution_count": 4,
   "metadata": {},
   "outputs": [
    {
     "name": "stdout",
     "output_type": "stream",
     "text": [
      "Tensor(\"add:0\", shape=(1, 100), dtype=float32)\n"
     ]
    }
   ],
   "source": [
    "#构造一个线性模型\n",
    "b = tf.Variable(tf.zeros([1]))\n",
    "W = tf.Variable(tf.random_uniform([1,2], -1.0, 1.0))\n",
    "y = tf.matmul(W, x_data)+b\n",
    "print y"
   ]
  },
  {
   "cell_type": "code",
   "execution_count": 5,
   "metadata": {},
   "outputs": [],
   "source": [
    "#最小化方差\n",
    "loss = tf.reduce_mean(tf.square(y-y_data))\n",
    "optimizer = tf.train.GradientDescentOptimizer(0.5)\n",
    "train = optimizer.minimize(loss)"
   ]
  },
  {
   "cell_type": "code",
   "execution_count": 6,
   "metadata": {},
   "outputs": [],
   "source": [
    "#初始化变量\n",
    "init = tf.global_variables_initializer()\n",
    "#启动图\n",
    "sess = tf.Session()\n",
    "sess.run(init)"
   ]
  },
  {
   "cell_type": "code",
   "execution_count": 7,
   "metadata": {},
   "outputs": [
    {
     "name": "stdout",
     "output_type": "stream",
     "text": [
      "0 [[0.38271484 0.57634234]] [-0.13539901]\n",
      "20 [[0.2232446  0.33881345]] [0.16045557]\n",
      "40 [[0.14685619 0.24897346]] [0.24888986]\n",
      "60 [[0.11750353 0.21755753]] [0.28128397]\n",
      "80 [[0.10647838 0.206353  ]] [0.29314715]\n",
      "100 [[0.10238589 0.20231079]] [0.29749098]\n",
      "120 [[0.10087632 0.20084293]] [0.29908141]\n",
      "140 [[0.10032139 0.200308  ]] [0.2996637]\n",
      "160 [[0.10011778 0.20011264]] [0.29987687]\n",
      "180 [[0.10004316 0.2000412 ]] [0.29995492]\n",
      "200 [[0.10001581 0.20001508]] [0.2999835]\n"
     ]
    }
   ],
   "source": [
    "for step in xrange(0,201):\n",
    "    sess.run(train)\n",
    "    if step%20 == 0:\n",
    "        print step, sess.run(W), sess.run(b)"
   ]
  },
  {
   "cell_type": "code",
   "execution_count": null,
   "metadata": {},
   "outputs": [],
   "source": []
  }
 ],
 "metadata": {
  "kernelspec": {
   "display_name": "Python 2",
   "language": "python",
   "name": "python2"
  },
  "language_info": {
   "codemirror_mode": {
    "name": "ipython",
    "version": 2
   },
   "file_extension": ".py",
   "mimetype": "text/x-python",
   "name": "python",
   "nbconvert_exporter": "python",
   "pygments_lexer": "ipython2",
   "version": "2.7.14"
  }
 },
 "nbformat": 4,
 "nbformat_minor": 2
}
