{
 "cells": [
  {
   "cell_type": "code",
   "execution_count": 48,
   "metadata": {},
   "outputs": [
    {
     "name": "stdout",
     "output_type": "stream",
     "text": [
      "1.4.0\n"
     ]
    }
   ],
   "source": [
    "import tensorflow as tf\n",
    "from tensorflow.python.training import moving_averages\n",
    "from tensorflow.python.ops import control_flow_ops\n",
    "print tf.__version__"
   ]
  },
  {
   "cell_type": "code",
   "execution_count": null,
   "metadata": {},
   "outputs": [],
   "source": [
    "MOVING_AVERAGE_DECAY = 0.9997\n",
    "BN_DECAY = MOVING_AVERAGE_DECAY\n",
    "BN_EPSION = 0.001\n",
    "def _get_variable(name,kernel_shape, dtype, initializer, trainable=True):\n",
    "    return tf.get_variable(name, \n",
    "                           kernel_shape,\n",
    "                           dtype=dtype,\n",
    "                           initializer=initializer,\n",
    "                          trainable=trainable)\n",
    "    \n",
    "    \n",
    "def conv2d(x, kernel, stride):\n",
    "    return tf.nn.conv2d(x, filter=kernel, strides=stride, padding='SAME')\n",
    "def maxpooling(x, ksize):\n",
    "    return tf.nn.max_pool(x, shape=[1,ksize,ksize,1])\n",
    "def bn(x, c):\n",
    "    x_shape = x.get_shape()\n",
    "    params_shape = x_shape[-1:]\n",
    "    axis = list(range(len(x_shape)-1))\n",
    "    \n",
    "    beta = _get_variable('beta', \n",
    "                        params_shape,\n",
    "                        initializer=tf.zeros_initializer)\n",
    "    gama = _get_variable('gama',\n",
    "                        params_shape,\n",
    "                        initializer=tf.ones_initializer)\n",
    "    \n",
    "    moving_mean = _get_variable('moving_mean',\n",
    "                               params_shape,\n",
    "                               initializer=tf.zeros_initializer,\n",
    "                               trainable=False)\n",
    "    moving_variance = _get_variable('moving_variance',\n",
    "                                   params_shape,\n",
    "                                   initializer=tf.ones_initializer,\n",
    "                                   trainable=False)\n",
    "    \n",
    "    #These ops will only be preformed when training\n",
    "    means, variable = tf.nn.moments(x, axis)\n",
    "    update_moving_mean = moving_averages.assign_moving_average(moving_mean,\n",
    "                                                              mean, BN_DECAY)\n",
    "    update_moving_variance = moving_averages.assign_moving_average(\n",
    "        moving_averages, variance, BN_DECAY)\n",
    "    tf.add_to_collection(UPDATE_OPS_COLLECTION, update_moving_mean)\n",
    "    tf.add_to_collection(UPDATE_OPS_COLLECTION, update_moving_variance)\n",
    "    \n",
    "    mean, variacne = control_flow_ops.cond(\n",
    "        c['is_trainning'], lambda: (mean, variable),\n",
    "        lambda: (moving_mean, moving_variance))\n",
    "    \n",
    "    x = tf.nn.batch_normalization(x, mean, variance, beta, gama, BN_EPSION)\n",
    "    \n",
    "    return x\n",
    "      \n",
    "    "
   ]
  },
  {
   "cell_type": "code",
   "execution_count": 46,
   "metadata": {},
   "outputs": [
    {
     "name": "stdout",
     "output_type": "stream",
     "text": [
      "(16,)\n"
     ]
    }
   ],
   "source": [
    "sess=tf.InteractiveSession()\n",
    "img = tf.random_normal([64,3,3,16])\n",
    "img_shape=img.get_shape()\n",
    "params_shape = img_shape[-1:]\n",
    "#params_shape.eval()\n",
    "print params_shape\n",
    "#print sess.run(img)\n",
    "#print img.get_shape()\n",
    "#print len(img.get_shape())\n",
    "#print range(len(img.get_shape())-1)\n",
    "axis = list(range(len(img.get_shape())-1))\n",
    "#print axis\n",
    "mean, variance = tf.nn.moments(img, 0)\n",
    "#print mean.get_shape()\n",
    "#mean.eval()"
   ]
  },
  {
   "cell_type": "code",
   "execution_count": 53,
   "metadata": {},
   "outputs": [
    {
     "name": "stdout",
     "output_type": "stream",
     "text": [
      "1\n"
     ]
    }
   ],
   "source": [
    "import tensorflow as tf\n",
    "from tensorflow.python.ops import control_flow_ops\n",
    "\n",
    "a = tf.constant(1)\n",
    "b = tf.constant(3)\n",
    "\n",
    "condition = tf.convert_to_tensor(True, dtype='bool')\n",
    "\n",
    "rtval = control_flow_ops.cond(condition,lambda: a,lambda: b)\n",
    "\n",
    "with tf.Session() as sess:\n",
    "    sess.run(tf.global_variables_initializer())\n",
    "    print sess.run(rtval)\n"
   ]
  },
  {
   "cell_type": "code",
   "execution_count": null,
   "metadata": {},
   "outputs": [],
   "source": []
  }
 ],
 "metadata": {
  "kernelspec": {
   "display_name": "Python 2",
   "language": "python",
   "name": "python2"
  },
  "language_info": {
   "codemirror_mode": {
    "name": "ipython",
    "version": 2
   },
   "file_extension": ".py",
   "mimetype": "text/x-python",
   "name": "python",
   "nbconvert_exporter": "python",
   "pygments_lexer": "ipython2",
   "version": "2.7.14"
  }
 },
 "nbformat": 4,
 "nbformat_minor": 2
}
